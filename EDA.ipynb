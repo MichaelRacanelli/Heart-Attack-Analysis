{
 "cells": [
  {
   "cell_type": "markdown",
   "metadata": {},
   "source": [
    "# Exploratory data analysis"
   ]
  },
  {
   "cell_type": "code",
   "execution_count": 1,
   "metadata": {},
   "outputs": [],
   "source": [
    "import pandas as pd\n",
    "import matplotlib.pyplot as plt\n",
    "import seaborn as sns"
   ]
  },
  {
   "cell_type": "code",
   "execution_count": null,
   "metadata": {},
   "outputs": [],
   "source": [
    "data = pd.read_csv('heart_attack_youth_vs_adult.csv', index_col=0)\n",
    "data"
   ]
  },
  {
   "cell_type": "code",
   "execution_count": null,
   "metadata": {},
   "outputs": [],
   "source": [
    "print(data.info())"
   ]
  },
  {
   "cell_type": "code",
   "execution_count": null,
   "metadata": {},
   "outputs": [],
   "source": [
    "import pandas as pd\n",
    "\n",
    "def create_info_table(df):\n",
    "    # Extract information from the DataFrame\n",
    "    info_dict = {\n",
    "        'Column': df.columns,\n",
    "        'Dtype': df.dtypes\n",
    "    }\n",
    "    \n",
    "    # Create a DataFrame from the extracted information\n",
    "    info_df = pd.DataFrame(info_dict)\n",
    "    \n",
    "    # Reset index for a clean table\n",
    "    info_df.reset_index(drop=True, inplace=True)\n",
    "    \n",
    "    return info_df\n",
    "\n",
    "# Create and display the info table\n",
    "info_table = create_info_table(data)\n",
    "info_table"
   ]
  },
  {
   "cell_type": "code",
   "execution_count": null,
   "metadata": {},
   "outputs": [],
   "source": [
    "cols_categorical = data.select_dtypes(include='object').columns\n",
    "print(len(cols_categorical), cols_categorical)\n",
    "cols_numeric = data.select_dtypes(include='number').columns\n",
    "print(len(cols_numeric), cols_numeric)"
   ]
  },
  {
   "cell_type": "code",
   "execution_count": null,
   "metadata": {},
   "outputs": [],
   "source": [
    "# Set display options for better readability\n",
    "pd.options.display.float_format = '{:,.2f}'.format\n",
    "data.describe()"
   ]
  },
  {
   "cell_type": "code",
   "execution_count": null,
   "metadata": {},
   "outputs": [],
   "source": [
    "# Create a pie chart for each categorical column\n",
    "for column in cols_categorical:\n",
    "    plt.figure(figsize=(10, 7))\n",
    "    colors = sns.color_palette('pastel')[0:len(data[column].unique())]\n",
    "    data[column].value_counts().plot.pie(\n",
    "        autopct='%1.1f%%', \n",
    "        startangle=90, \n",
    "        colors=colors, \n",
    "        wedgeprops={'edgecolor': 'black'},\n",
    "        textprops={'fontsize': 12}\n",
    "    )\n",
    "    plt.title(f'Pie chart for {column}', fontsize=16)\n",
    "    plt.ylabel('')  # Hide the y-label\n",
    "    plt.axis('equal')  # Equal aspect ratio ensures that pie is drawn as a circle.\n",
    "    plt.show()"
   ]
  },
  {
   "cell_type": "markdown",
   "metadata": {},
   "source": [
    "## Numerical Distribution"
   ]
  },
  {
   "cell_type": "code",
   "execution_count": 11,
   "metadata": {},
   "outputs": [],
   "source": [
    "import matplotlib.pyplot as plt\n",
    "import seaborn as sns\n",
    "\n",
    "PALETTE = sns.color_palette('pastel')\n",
    "\n",
    "import plotly.express as px\n",
    "import plotly.graph_objects as go"
   ]
  },
  {
   "cell_type": "code",
   "execution_count": null,
   "metadata": {},
   "outputs": [],
   "source": [
    "from palmerpenguins import load_penguins\n",
    "penguins = load_penguins()\n",
    "def plot():  \n",
    "        scatterplot = px.histogram(\n",
    "            data_frame=penguins,\n",
    "            x=\"body_mass_g\",\n",
    "            nbins=30,\n",
    "        ).update_layout(\n",
    "            title={\"text\": \"Penguin Mass\", \"x\": 0.5},\n",
    "            yaxis_title=\"Count\",\n",
    "            xaxis_title=\"Body Mass (g)\",\n",
    "        )\n",
    "\n",
    "        return scatterplot \n",
    "plot()"
   ]
  },
  {
   "cell_type": "code",
   "execution_count": null,
   "metadata": {},
   "outputs": [],
   "source": [
    "scatterplot = px.histogram(\n",
    "    data_frame=data,\n",
    "    x=\"BMI\",\n",
    ").update_layout(\n",
    "    title={\"text\": \"BMI\", \"x\": 0.5},\n",
    "    yaxis_title=\"Count\",\n",
    "    xaxis_title=\"BMI\",\n",
    ")\n",
    "\n",
    "scatterplot  "
   ]
  },
  {
   "cell_type": "code",
   "execution_count": null,
   "metadata": {},
   "outputs": [],
   "source": [
    "# Initialize the figure\n",
    "fig = go.Figure()\n",
    "\n",
    "df=data\n",
    "x_var = 'BMI'\n",
    "\n",
    "# Add the overall distribution\n",
    "fig.add_trace(go.Histogram(\n",
    "    x=df[x_var],\n",
    "    name=\"Overall\",\n",
    "    opacity=0.5,\n",
    "    histnorm='probability density',  # Normalize to make densities comparable\n",
    "    marker=dict(color='gray')\n",
    "))\n",
    "\n",
    "# # Add distributions for each category in the hue variable\n",
    "# for hue_value in df[hue_var].unique():\n",
    "#     filtered_df = df[df[hue_var] == hue_value]\n",
    "#     fig.add_trace(go.Histogram(\n",
    "#         x=filtered_df[x_var],\n",
    "#         name=f\"{hue_var}: {hue_value}\",\n",
    "#         opacity=0.5,\n",
    "#         histnorm='probability density'\n",
    "#     ))\n",
    "\n",
    "# Update layout for better readability\n",
    "fig.update_layout(\n",
    "    title=f\"Distribution of {x_var}\",\n",
    "    xaxis_title=x_var,\n",
    "    yaxis_title=\"Density\",\n",
    "    barmode=\"overlay\",  # Overlay the histograms\n",
    "    template=\"plotly_white\"\n",
    ")\n",
    "\n",
    "fig"
   ]
  },
  {
   "cell_type": "code",
   "execution_count": null,
   "metadata": {},
   "outputs": [],
   "source": []
  }
 ],
 "metadata": {
  "kernelspec": {
   "display_name": ".venv",
   "language": "python",
   "name": "python3"
  },
  "language_info": {
   "codemirror_mode": {
    "name": "ipython",
    "version": 3
   },
   "file_extension": ".py",
   "mimetype": "text/x-python",
   "name": "python",
   "nbconvert_exporter": "python",
   "pygments_lexer": "ipython3",
   "version": "3.9.5"
  }
 },
 "nbformat": 4,
 "nbformat_minor": 2
}
